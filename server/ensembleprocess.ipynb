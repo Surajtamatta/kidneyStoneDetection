{
 "cells": [
  {
   "cell_type": "code",
   "execution_count": 13,
   "metadata": {},
   "outputs": [
    {
     "name": "stderr",
     "output_type": "stream",
     "text": [
      "/opt/homebrew/Caskroom/miniconda/base/envs/python3122/lib/python3.12/site-packages/keras/src/saving/saving_lib.py:396: UserWarning: Skipping variable loading for optimizer 'rmsprop', because it has 22 variables whereas the saved optimizer has 42 variables. \n",
      "  trackable.load_own_variables(weights_store.get(inner_path))\n"
     ]
    },
    {
     "name": "stdout",
     "output_type": "stream",
     "text": [
      "\u001b[1m1/1\u001b[0m \u001b[32m━━━━━━━━━━━━━━━━━━━━\u001b[0m\u001b[37m\u001b[0m \u001b[1m0s\u001b[0m 272ms/step\n",
      "CNN Prediction: [1]\n",
      "SVM Prediction: [0]\n",
      "Decision Tree Prediction: [0]\n",
      "\u001b[1m1/1\u001b[0m \u001b[32m━━━━━━━━━━━━━━━━━━━━\u001b[0m\u001b[37m\u001b[0m \u001b[1m0s\u001b[0m 86ms/step\n",
      "Ensemble Prediction: Cyst\n"
     ]
    }
   ],
   "source": [
    "import tensorflow as tf\n",
    "import pickle\n",
    "import numpy as np\n",
    "import cv2\n",
    "\n",
    "\n",
    "cnn_model = tf.keras.models.load_model('models/kidneystone.keras')\n",
    "\n",
    "\n",
    "with open(\"models/svm_model.pkl\", \"rb\") as f:\n",
    "    svm_model = pickle.load(f)\n",
    "\n",
    "\n",
    "with open('models/decision_tree_model.pkl', 'rb') as file:\n",
    "    decision_tree_model = pickle.load(file)\n",
    "\n",
    "\n",
    "def ensemble_predict(cnn_model, svm_model, decision_tree_model, X):\n",
    "    def cnn_function():\n",
    "        yhat = cnn_model.predict(np.expand_dims(X, 0))\n",
    "        return [np.argmax(yhat[0])] \n",
    "\n",
    "\n",
    "    def svm_function():\n",
    "        svm = svm_model.best_estimator_\n",
    "        yhat = svm.predict(X.flatten().reshape(1, -1))\n",
    "        return [yhat[0]] \n",
    "\n",
    "\n",
    "    def decision_function():\n",
    "        decision_tree= decision_tree_model.best_estimator_\n",
    "        yhat = decision_tree.predict(X.flatten().reshape(1, -1))\n",
    "        return [yhat[0]]\n",
    "\n",
    " \n",
    "    print(\"CNN Prediction:\", cnn_function())\n",
    "    print(\"SVM Prediction:\", svm_function())\n",
    "    print(\"Decision Tree Prediction:\", decision_function())\n",
    "\n",
    "   \n",
    "    ensemble_pred = []\n",
    "    for cnn, svm, dt in zip(cnn_function(), svm_function(), decision_function()):\n",
    "        votes = [cnn, svm, dt]\n",
    "        ensemble_pred.append(max(set(votes), key=votes.count))\n",
    "    return ensemble_pred\n",
    "\n",
    "\n",
    "class_labels = ['Cyst', 'Normal', 'Stone', 'Tumor']\n",
    "\n",
    "\n",
    "img = cv2.imread(\"images/normal.png\")  \n",
    "img_rgb = cv2.cvtColor(img, cv2.COLOR_BGR2RGB)\n",
    "resized_img = cv2.resize(img_rgb, (256, 256))\n",
    "normalized_img = resized_img / 255.0\n",
    "\n",
    "\n",
    "ensemble_prediction = ensemble_predict(cnn_model, svm_model, decision_tree_model, normalized_img)\n",
    "print(\"Ensemble Prediction:\", class_labels[ensemble_prediction[0]])  # Assuming ensemble_pred is a list with a single value\n",
    "\n",
    "\n"
   ]
  },
  {
   "cell_type": "code",
   "execution_count": 5,
   "metadata": {},
   "outputs": [
    {
     "name": "stderr",
     "output_type": "stream",
     "text": [
      "/opt/homebrew/Caskroom/miniconda/base/envs/python3122/lib/python3.12/site-packages/keras/src/saving/saving_lib.py:396: UserWarning: Skipping variable loading for optimizer 'rmsprop', because it has 22 variables whereas the saved optimizer has 42 variables. \n",
      "  trackable.load_own_variables(weights_store.get(inner_path))\n"
     ]
    },
    {
     "name": "stdout",
     "output_type": "stream",
     "text": [
      "\u001b[1m1/1\u001b[0m \u001b[32m━━━━━━━━━━━━━━━━━━━━\u001b[0m\u001b[37m\u001b[0m \u001b[1m0s\u001b[0m 315ms/step\n",
      "2 0 0\n",
      "Ensemble Prediction: Cyst\n"
     ]
    }
   ],
   "source": [
    "import tensorflow as tf\n",
    "import pickle\n",
    "import numpy as np\n",
    "import cv2\n",
    "\n",
    "cnn_model = tf.keras.models.load_model('models/kidneystone.keras')\n",
    "\n",
    "# Load the SVM model\n",
    "with open(\"models/grid_search_model.pkl\", \"rb\") as f:\n",
    "    svm_model = pickle.load(f)\n",
    "    # svm_model =svm_model.best_estimator_\n",
    "\n",
    "# Load the Decision Tree model\n",
    "with open('models/decision_tree_model.pkl', 'rb') as file:\n",
    "    decision_tree_model = pickle.load(file)\n",
    "    # decision_tree_model =decision_tree_model.best_estimator_\n",
    "\n",
    "def ensemble_predict(cnn_model, svm_model, decision_tree_model, X):\n",
    "    def cnn_function():\n",
    "        yhat = cnn_model.predict(np.expand_dims(X, 0))\n",
    "        return np.argmax(yhat[0])\n",
    "\n",
    "    def svm_function():\n",
    "        X_img = X.reshape(1, -1)\n",
    "        yhat = svm_model.predict(X_img)\n",
    "        return yhat[0]\n",
    "\n",
    "    def decision_function():\n",
    "        X_img = X.reshape(1, -1)\n",
    "        yhat = decision_tree_model.predict(X_img)\n",
    "        return yhat[0]\n",
    "\n",
    "    cnn_pred = cnn_function()\n",
    "    svm_pred = svm_function()\n",
    "    dt_pred = decision_function()\n",
    "\n",
    "    print(cnn_pred, svm_pred, dt_pred)\n",
    "\n",
    "    # Combine predictions\n",
    "    ensemble_pred = max(set([cnn_pred, svm_pred, dt_pred]), key=[cnn_pred, svm_pred, dt_pred].count)\n",
    "    return ensemble_pred\n",
    "\n",
    "class_labels = ['Cyst', 'Normal', 'Stone', 'Tumor']\n",
    "\n",
    "# Read and preprocess the new image\n",
    "img = cv2.imread(\"images/stone.jpeg\")  # Replace \"path_to_new_image.jpg\" with the path to your new image\n",
    "img_rgb = cv2.cvtColor(img, cv2.COLOR_BGR2RGB)\n",
    "resized_img = cv2.resize(img_rgb, (256, 256))\n",
    "normalized_img = resized_img / 255.0\n",
    "\n",
    "ensemble_prediction = ensemble_predict(cnn_model, svm_model, decision_tree_model, normalized_img)\n",
    "print(\"Ensemble Prediction:\", class_labels[ensemble_prediction])\n",
    "\n"
   ]
  },
  {
   "cell_type": "code",
   "execution_count": null,
   "metadata": {},
   "outputs": [],
   "source": []
  }
 ],
 "metadata": {
  "kernelspec": {
   "display_name": "python3122",
   "language": "python",
   "name": "python3"
  },
  "language_info": {
   "codemirror_mode": {
    "name": "ipython",
    "version": 3
   },
   "file_extension": ".py",
   "mimetype": "text/x-python",
   "name": "python",
   "nbconvert_exporter": "python",
   "pygments_lexer": "ipython3",
   "version": "3.12.2"
  }
 },
 "nbformat": 4,
 "nbformat_minor": 2
}
